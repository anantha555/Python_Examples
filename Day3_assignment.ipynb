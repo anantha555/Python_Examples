{
  "nbformat": 4,
  "nbformat_minor": 0,
  "metadata": {
    "kernelspec": {
      "display_name": "Python 3",
      "language": "python",
      "name": "python3"
    },
    "language_info": {
      "codemirror_mode": {
        "name": "ipython",
        "version": 3
      },
      "file_extension": ".py",
      "mimetype": "text/x-python",
      "name": "python",
      "nbconvert_exporter": "python",
      "pygments_lexer": "ipython3",
      "version": "3.7.6"
    },
    "colab": {
      "name": "Day3_assignment.ipynb",
      "provenance": [],
      "collapsed_sections": []
    }
  },
  "cells": [
    {
      "cell_type": "markdown",
      "metadata": {
        "id": "Ldlb5HSSjD4q",
        "colab_type": "text"
      },
      "source": [
        "# assignment 1 for Day 3\n"
      ]
    },
    {
      "cell_type": "code",
      "metadata": {
        "id": "fDKbIs0zjD4r",
        "colab_type": "code",
        "colab": {},
        "outputId": "4c3ace16-f1f0-48f4-aaf8-290d97482258"
      },
      "source": [
        "\n",
        "pinput = int(input('Enter current altitude in ft : '))\n",
        "\n",
        "if pinput <= 1000:\n",
        "    print('Safe to land')\n",
        "elif 1000 < pinput <= 5000:\n",
        "    print ('Bring the plan down to 1000ft or less')\n",
        "else:\n",
        "    print('Turn around and try agian later')\n",
        "    "
      ],
      "execution_count": null,
      "outputs": [
        {
          "output_type": "stream",
          "text": [
            "Enter current altitude in ft : 2625\n",
            "Bring the plan down to 1000ft or less\n"
          ],
          "name": "stdout"
        }
      ]
    },
    {
      "cell_type": "markdown",
      "metadata": {
        "id": "dOcRgv8KjD4y",
        "colab_type": "text"
      },
      "source": [
        "# assignment 2 for Day 3"
      ]
    },
    {
      "cell_type": "code",
      "metadata": {
        "id": "Liu7Pow-jD4z",
        "colab_type": "code",
        "colab": {
          "base_uri": "https://localhost:8080/"
        },
        "outputId": "0b4e016d-4b83-4084-beae-f0923570ceab"
      },
      "source": [
        "numbers = list(range(0,101))\n",
        "print('Prime nmber in range of 1 to 100 are:')\n",
        "for i in numbers: \n",
        "    if i == 1:\n",
        "        print(1)\n",
        "    elif i > 1:    \n",
        "        for j in range(2, i): \n",
        "            if (i % j) == 0: \n",
        "                break\n",
        "        else:\n",
        "            print(i)"
      ],
      "execution_count": null,
      "outputs": [
        {
          "output_type": "stream",
          "text": [
            "Prime nmber in range of 1 to 100 are:\n",
            "1\n",
            "2\n",
            "3\n",
            "5\n",
            "7\n",
            "11\n",
            "13\n",
            "17\n",
            "19\n",
            "23\n",
            "29\n",
            "31\n",
            "37\n",
            "41\n",
            "43\n",
            "47\n",
            "53\n",
            "59\n",
            "61\n",
            "67\n",
            "71\n",
            "73\n",
            "79\n",
            "83\n",
            "89\n",
            "97\n"
          ],
          "name": "stdout"
        }
      ]
    },
    {
      "cell_type": "markdown",
      "metadata": {
        "id": "JNDhdaQqjD43",
        "colab_type": "text"
      },
      "source": [
        "# assignment 3 for Day 3"
      ]
    },
    {
      "cell_type": "code",
      "metadata": {
        "id": "hcVzaPROjD43",
        "colab_type": "code",
        "colab": {
          "base_uri": "https://localhost:8080/",
          "height": 34
        },
        "outputId": "1b380bc5-13e1-4132-d418-cd97c321083d"
      },
      "source": [
        "# system was hanagging for given range in the assigninment 1042000,702648266\n",
        "# below prog is for range 100 to 1000\n",
        "found = []\n",
        "for num in range(100,1000):\n",
        "    order = len(str(num))\n",
        "    temp = num\n",
        "    sum1 = 0\n",
        "    while temp > 0:\n",
        "        digit = temp % 10\n",
        "        sum1 = sum1 + (digit**order)\n",
        "        temp = temp//10\n",
        "    if sum1==num:\n",
        "        found.append(num)\n",
        "\n",
        "print (found[0])\n",
        "            "
      ],
      "execution_count": null,
      "outputs": [
        {
          "output_type": "stream",
          "text": [
            "153\n"
          ],
          "name": "stdout"
        }
      ]
    },
    {
      "cell_type": "markdown",
      "metadata": {
        "id": "Mtn5IjEejD46",
        "colab_type": "text"
      },
      "source": [
        "\n"
      ]
    }
  ]
}